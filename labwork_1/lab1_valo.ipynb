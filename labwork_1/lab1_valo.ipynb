{
 "cells": [
  {
   "cell_type": "code",
   "execution_count": 1,
   "metadata": {},
   "outputs": [],
   "source": [
    "import pandas as pd\n",
    "import numpy as np"
   ]
  },
  {
   "cell_type": "code",
   "execution_count": 17,
   "metadata": {},
   "outputs": [
    {
     "data": {
      "text/html": [
       "<div>\n",
       "<style scoped>\n",
       "    .dataframe tbody tr th:only-of-type {\n",
       "        vertical-align: middle;\n",
       "    }\n",
       "\n",
       "    .dataframe tbody tr th {\n",
       "        vertical-align: top;\n",
       "    }\n",
       "\n",
       "    .dataframe thead th {\n",
       "        text-align: right;\n",
       "    }\n",
       "</style>\n",
       "<table border=\"1\" class=\"dataframe\">\n",
       "  <thead>\n",
       "    <tr style=\"text-align: right;\">\n",
       "      <th></th>\n",
       "      <th>Player</th>\n",
       "      <th>Team</th>\n",
       "      <th>Rounds Played</th>\n",
       "      <th>KD</th>\n",
       "      <th>Rating</th>\n",
       "    </tr>\n",
       "  </thead>\n",
       "  <tbody>\n",
       "    <tr>\n",
       "      <th>0</th>\n",
       "      <td>Demon1</td>\n",
       "      <td>EG</td>\n",
       "      <td>459</td>\n",
       "      <td>1.39</td>\n",
       "      <td>1.23</td>\n",
       "    </tr>\n",
       "    <tr>\n",
       "      <th>1</th>\n",
       "      <td>keznit</td>\n",
       "      <td>KR</td>\n",
       "      <td>90</td>\n",
       "      <td>1.13</td>\n",
       "      <td>1.19</td>\n",
       "    </tr>\n",
       "    <tr>\n",
       "      <th>2</th>\n",
       "      <td>Leo</td>\n",
       "      <td>FNC</td>\n",
       "      <td>270</td>\n",
       "      <td>1.37</td>\n",
       "      <td>1.17</td>\n",
       "    </tr>\n",
       "    <tr>\n",
       "      <th>3</th>\n",
       "      <td>Alfajer</td>\n",
       "      <td>FNC</td>\n",
       "      <td>270</td>\n",
       "      <td>1.39</td>\n",
       "      <td>1.17</td>\n",
       "    </tr>\n",
       "    <tr>\n",
       "      <th>4</th>\n",
       "      <td>Less</td>\n",
       "      <td>LOUD</td>\n",
       "      <td>515</td>\n",
       "      <td>1.21</td>\n",
       "      <td>1.16</td>\n",
       "    </tr>\n",
       "  </tbody>\n",
       "</table>\n",
       "</div>"
      ],
      "text/plain": [
       "    Player  Team  Rounds Played    KD  Rating\n",
       "0   Demon1    EG            459  1.39    1.23\n",
       "1   keznit   KR             90  1.13    1.19\n",
       "2      Leo   FNC            270  1.37    1.17\n",
       "3  Alfajer   FNC            270  1.39    1.17\n",
       "4     Less  LOUD            515  1.21    1.16"
      ]
     },
     "execution_count": 17,
     "metadata": {},
     "output_type": "execute_result"
    }
   ],
   "source": [
    "data = pd.read_csv('C:/ML2/labwork_1/valorant_player.csv', encoding='unicode_escape')\n",
    "data=data.drop('Player ID', axis=1)\n",
    "\n",
    "data.head(5)"
   ]
  },
  {
   "cell_type": "code",
   "execution_count": 18,
   "metadata": {},
   "outputs": [
    {
     "name": "stdout",
     "output_type": "stream",
     "text": [
      "Numerical statistics:\n",
      "      Rounds Played        KD    Rating\n",
      "mean     229.125000  0.963625  0.965875\n",
      "var    17669.857595  0.034398  0.020455\n"
     ]
    },
    {
     "name": "stderr",
     "output_type": "stream",
     "text": [
      "C:\\Users\\PC\\AppData\\Local\\Temp\\ipykernel_6564\\3785712596.py:15: FutureWarning: pandas.value_counts is deprecated and will be removed in a future version. Use pd.Series(obj).value_counts() instead.\n",
      "  categorical_counts = data[categorical_cols].apply(pd.value_counts)\n",
      "C:\\Users\\PC\\AppData\\Local\\Temp\\ipykernel_6564\\3785712596.py:15: FutureWarning: pandas.value_counts is deprecated and will be removed in a future version. Use pd.Series(obj).value_counts() instead.\n",
      "  categorical_counts = data[categorical_cols].apply(pd.value_counts)\n"
     ]
    }
   ],
   "source": [
    "# Separate numerical and categorical columns\n",
    "numerical_cols = data.select_dtypes(include=['int', 'float']).columns\n",
    "categorical_cols = data.select_dtypes(include=['object']).columns\n",
    "\n",
    "# Calculate mean and variance for numerical data\n",
    "numerical_stats = data[numerical_cols].agg(['mean', 'var'])\n",
    "\n",
    "# Calculate covariance matrix for numerical data\n",
    "covariance_matrix = data[numerical_cols].cov()\n",
    "\n",
    "# Calculate correlation matrix for numerical data\n",
    "correlation_matrix = data[numerical_cols].corr()\n",
    "\n",
    "# Calculate frequency counts for categorical data\n",
    "categorical_counts = data[categorical_cols].apply(pd.value_counts)\n",
    "\n",
    "# Print the results\n",
    "print(\"Numerical statistics:\")\n",
    "print(numerical_stats)"
   ]
  },
  {
   "cell_type": "code",
   "execution_count": 19,
   "metadata": {},
   "outputs": [
    {
     "name": "stdout",
     "output_type": "stream",
     "text": [
      "\n",
      "Covariance matrix:\n",
      "               Rounds Played        KD    Rating\n",
      "Rounds Played   17669.857595  9.607896  9.308497\n",
      "KD                  9.607896  0.034398  0.024020\n",
      "Rating              9.308497  0.024020  0.020455\n"
     ]
    }
   ],
   "source": [
    "print(\"\\nCovariance matrix:\")\n",
    "print(covariance_matrix)"
   ]
  },
  {
   "cell_type": "code",
   "execution_count": 20,
   "metadata": {},
   "outputs": [
    {
     "name": "stdout",
     "output_type": "stream",
     "text": [
      "\n",
      "Correlation matrix:\n",
      "               Rounds Played        KD    Rating\n",
      "Rounds Played       1.000000  0.389713  0.489626\n",
      "KD                  0.389713  1.000000  0.905546\n",
      "Rating              0.489626  0.905546  1.000000\n"
     ]
    }
   ],
   "source": [
    "print(\"\\nCorrelation matrix:\")\n",
    "print(correlation_matrix)"
   ]
  },
  {
   "cell_type": "code",
   "execution_count": null,
   "metadata": {},
   "outputs": [],
   "source": []
  }
 ],
 "metadata": {
  "kernelspec": {
   "display_name": "Python 3",
   "language": "python",
   "name": "python3"
  },
  "language_info": {
   "codemirror_mode": {
    "name": "ipython",
    "version": 3
   },
   "file_extension": ".py",
   "mimetype": "text/x-python",
   "name": "python",
   "nbconvert_exporter": "python",
   "pygments_lexer": "ipython3",
   "version": "3.11.9"
  }
 },
 "nbformat": 4,
 "nbformat_minor": 2
}
