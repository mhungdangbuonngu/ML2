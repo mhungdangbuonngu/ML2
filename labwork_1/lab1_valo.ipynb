{
 "cells": [
  {
   "cell_type": "code",
   "execution_count": 1,
   "metadata": {},
   "outputs": [],
   "source": [
    "import pandas as pd\n",
    "import numpy as np"
   ]
  },
  {
   "cell_type": "code",
   "execution_count": 17,
   "metadata": {},
   "outputs": [
    {
     "data": {
      "text/html": [
       "<div>\n",
       "<style scoped>\n",
       "    .dataframe tbody tr th:only-of-type {\n",
       "        vertical-align: middle;\n",
       "    }\n",
       "\n",
       "    .dataframe tbody tr th {\n",
       "        vertical-align: top;\n",
       "    }\n",
       "\n",
       "    .dataframe thead th {\n",
       "        text-align: right;\n",
       "    }\n",
       "</style>\n",
       "<table border=\"1\" class=\"dataframe\">\n",
       "  <thead>\n",
       "    <tr style=\"text-align: right;\">\n",
       "      <th></th>\n",
       "      <th>Player</th>\n",
       "      <th>Team</th>\n",
       "      <th>Rounds Played</th>\n",
       "      <th>KD</th>\n",
       "      <th>Rating</th>\n",
       "    </tr>\n",
       "  </thead>\n",
       "  <tbody>\n",
       "    <tr>\n",
       "      <th>0</th>\n",
       "      <td>Demon1</td>\n",
       "      <td>EG</td>\n",
       "      <td>459</td>\n",
       "      <td>1.39</td>\n",
       "      <td>1.23</td>\n",
       "    </tr>\n",
       "    <tr>\n",
       "      <th>1</th>\n",
       "      <td>keznit</td>\n",
       "      <td>KR</td>\n",
       "      <td>90</td>\n",
       "      <td>1.13</td>\n",
       "      <td>1.19</td>\n",
       "    </tr>\n",
       "    <tr>\n",
       "      <th>2</th>\n",
       "      <td>Leo</td>\n",
       "      <td>FNC</td>\n",
       "      <td>270</td>\n",
       "      <td>1.37</td>\n",
       "      <td>1.17</td>\n",
       "    </tr>\n",
       "    <tr>\n",
       "      <th>3</th>\n",
       "      <td>Alfajer</td>\n",
       "      <td>FNC</td>\n",
       "      <td>270</td>\n",
       "      <td>1.39</td>\n",
       "      <td>1.17</td>\n",
       "    </tr>\n",
       "    <tr>\n",
       "      <th>4</th>\n",
       "      <td>Less</td>\n",
       "      <td>LOUD</td>\n",
       "      <td>515</td>\n",
       "      <td>1.21</td>\n",
       "      <td>1.16</td>\n",
       "    </tr>\n",
       "  </tbody>\n",
       "</table>\n",
       "</div>"
      ],
      "text/plain": [
       "    Player  Team  Rounds Played    KD  Rating\n",
       "0   Demon1    EG            459  1.39    1.23\n",
       "1   keznit   KR             90  1.13    1.19\n",
       "2      Leo   FNC            270  1.37    1.17\n",
       "3  Alfajer   FNC            270  1.39    1.17\n",
       "4     Less  LOUD            515  1.21    1.16"
      ]
     },
     "execution_count": 17,
     "metadata": {},
     "output_type": "execute_result"
    }
   ],
   "source": [
    "data = pd.read_csv('C:/ML2/labwork_1/valorant_player.csv', encoding='unicode_escape')\n",
    "data=data.drop('Player ID', axis=1)\n",
    "\n",
    "data.head(5)"
   ]
  },
  {
   "cell_type": "code",
   "execution_count": 21,
   "metadata": {},
   "outputs": [
    {
     "name": "stdout",
     "output_type": "stream",
     "text": [
      "<class 'pandas.core.frame.DataFrame'>\n",
      "RangeIndex: 80 entries, 0 to 79\n",
      "Data columns (total 5 columns):\n",
      " #   Column         Non-Null Count  Dtype  \n",
      "---  ------         --------------  -----  \n",
      " 0   Player         80 non-null     object \n",
      " 1   Team           80 non-null     object \n",
      " 2   Rounds Played  80 non-null     int64  \n",
      " 3   KD             80 non-null     float64\n",
      " 4   Rating         80 non-null     float64\n",
      "dtypes: float64(2), int64(1), object(2)\n",
      "memory usage: 3.3+ KB\n"
     ]
    }
   ],
   "source": [
    "data.info()"
   ]
  },
  {
   "cell_type": "code",
   "execution_count": 18,
   "metadata": {},
   "outputs": [
    {
     "name": "stdout",
     "output_type": "stream",
     "text": [
      "Numerical statistics:\n",
      "      Rounds Played        KD    Rating\n",
      "mean     229.125000  0.963625  0.965875\n",
      "var    17669.857595  0.034398  0.020455\n"
     ]
    },
    {
     "name": "stderr",
     "output_type": "stream",
     "text": [
      "C:\\Users\\PC\\AppData\\Local\\Temp\\ipykernel_6564\\3785712596.py:15: FutureWarning: pandas.value_counts is deprecated and will be removed in a future version. Use pd.Series(obj).value_counts() instead.\n",
      "  categorical_counts = data[categorical_cols].apply(pd.value_counts)\n",
      "C:\\Users\\PC\\AppData\\Local\\Temp\\ipykernel_6564\\3785712596.py:15: FutureWarning: pandas.value_counts is deprecated and will be removed in a future version. Use pd.Series(obj).value_counts() instead.\n",
      "  categorical_counts = data[categorical_cols].apply(pd.value_counts)\n"
     ]
    }
   ],
   "source": [
    "# Separate numerical and categorical columns\n",
    "numerical_cols = data.select_dtypes(include=['int', 'float']).columns\n",
    "categorical_cols = data.select_dtypes(include=['object']).columns\n",
    "\n",
    "# Calculate mean and variance for numerical data\n",
    "numerical_stats = data[numerical_cols].agg(['mean', 'var'])\n",
    "\n",
    "# Calculate covariance matrix for numerical data\n",
    "covariance_matrix = data[numerical_cols].cov()\n",
    "\n",
    "# Calculate correlation matrix for numerical data\n",
    "correlation_matrix = data[numerical_cols].corr()\n",
    "\n",
    "# Calculate frequency counts for categorical data\n",
    "categorical_counts = data[categorical_cols].apply(pd.value_counts)\n",
    "\n",
    "# Print the results\n",
    "print(\"Numerical statistics:\")\n",
    "print(numerical_stats)"
   ]
  },
  {
   "cell_type": "code",
   "execution_count": 19,
   "metadata": {},
   "outputs": [
    {
     "name": "stdout",
     "output_type": "stream",
     "text": [
      "\n",
      "Covariance matrix:\n",
      "               Rounds Played        KD    Rating\n",
      "Rounds Played   17669.857595  9.607896  9.308497\n",
      "KD                  9.607896  0.034398  0.024020\n",
      "Rating              9.308497  0.024020  0.020455\n"
     ]
    }
   ],
   "source": [
    "print(\"\\nCovariance matrix:\")\n",
    "print(covariance_matrix)"
   ]
  },
  {
   "cell_type": "code",
   "execution_count": 20,
   "metadata": {},
   "outputs": [
    {
     "name": "stdout",
     "output_type": "stream",
     "text": [
      "\n",
      "Correlation matrix:\n",
      "               Rounds Played        KD    Rating\n",
      "Rounds Played       1.000000  0.389713  0.489626\n",
      "KD                  0.389713  1.000000  0.905546\n",
      "Rating              0.489626  0.905546  1.000000\n"
     ]
    }
   ],
   "source": [
    "print(\"\\nCorrelation matrix:\")\n",
    "print(correlation_matrix)"
   ]
  },
  {
   "cell_type": "code",
   "execution_count": 1,
   "metadata": {},
   "outputs": [
    {
     "ename": "ModuleNotFoundError",
     "evalue": "No module named 'sklearn'",
     "output_type": "error",
     "traceback": [
      "\u001b[1;31m---------------------------------------------------------------------------\u001b[0m",
      "\u001b[1;31mModuleNotFoundError\u001b[0m                       Traceback (most recent call last)",
      "Cell \u001b[1;32mIn[1], line 2\u001b[0m\n\u001b[0;32m      1\u001b[0m \u001b[38;5;28;01mimport\u001b[39;00m \u001b[38;5;21;01mpandas\u001b[39;00m \u001b[38;5;28;01mas\u001b[39;00m \u001b[38;5;21;01mpd\u001b[39;00m\n\u001b[1;32m----> 2\u001b[0m \u001b[38;5;28;01mfrom\u001b[39;00m \u001b[38;5;21;01msklearn\u001b[39;00m\u001b[38;5;21;01m.\u001b[39;00m\u001b[38;5;21;01mdecomposition\u001b[39;00m \u001b[38;5;28;01mimport\u001b[39;00m PCA\n\u001b[0;32m      3\u001b[0m \u001b[38;5;28;01mfrom\u001b[39;00m \u001b[38;5;21;01msklearn\u001b[39;00m\u001b[38;5;21;01m.\u001b[39;00m\u001b[38;5;21;01mpreprocessing\u001b[39;00m \u001b[38;5;28;01mimport\u001b[39;00m StandardScaler\n\u001b[0;32m      4\u001b[0m \u001b[38;5;28;01mimport\u001b[39;00m \u001b[38;5;21;01mmatplotlib\u001b[39;00m\u001b[38;5;21;01m.\u001b[39;00m\u001b[38;5;21;01mpyplot\u001b[39;00m \u001b[38;5;28;01mas\u001b[39;00m \u001b[38;5;21;01mplt\u001b[39;00m\n",
      "\u001b[1;31mModuleNotFoundError\u001b[0m: No module named 'sklearn'"
     ]
    }
   ],
   "source": [
    "import pandas as pd\n",
    "from sklearn.decomposition import PCA\n",
    "from sklearn.preprocessing import StandardScaler\n",
    "import matplotlib.pyplot as plt\n",
    "\n",
    "# Load the dataset\n",
    "data = {\n",
    "    'Rounds Played': [459, 90, 270, 270, 515, 85, 515, 161, 515, 216, 130, 204, 459, 358, 204, 358, 130, 129, 237, 358, 459, 270, 283, 459, 237, 92, 161, 130, 161, 90, 515, 204, 216, 515, 283, 358, 358, 358, 358, 283, 270, 92, 216, 270, 161, 130, 358, 216, 129, 283, 129, 358, 204, 459, 79, 85, 130, 237, 237, 358, 85, 283, 161, 216, 129, 204, 90, 237, 92, 90, 92, 85, 90, 92, 85, 79, 79, 79, 79],\n",
    "    'KD': [1.39, 1.13, 1.37, 1.39, 1.21, 1.33, 1.26, 1.11, 1.12, 1.12, 1.07, 1.2, 1.11, 1.07, 1.21, 1.1, 1.07, 1.12, 1.17, 1.04, 1, 1.14, 0.97, 1.12, 1.04, 1.01, 1, 1.13, 1.02, 1.12, 0.96, 0.98, 0.88, 0.87, 0.98, 0.97, 1, 1.05, 1.02, 1.02, 0.89, 1.09, 0.94, 0.9, 0.83, 1.01, 0.93, 0.93, 0.93, 0.92, 0.94, 0.98, 0.88, 0.87, 1.08, 0.95, 0.72, 0.89, 0.91, 0.83, 0.87, 0.85, 0.88, 0.93, 0.82, 0.75, 0.72, 0.73, 0.76, 0.71, 0.69, 0.71, 0.64, 0.85, 0.68, 0.6, 0.66, 0.8, 0.67, 0.48],\n",
    "    'Rating': [1.23, 1.19, 1.17, 1.17, 1.16, 1.15, 1.15, 1.14, 1.13, 1.11, 1.11, 1.1, 1.1, 1.08, 1.08, 1.08, 1.08, 1.08, 1.08, 1.07, 1.07, 1.06, 1.06, 1.06, 1.05, 1.04, 1.04, 1.04, 1.04, 1.03, 1.02, 1.02, 1.01, 1.01, 1, 1, 0.99, 0.99, 0.99, 0.98, 0.98, 0.98, 0.98, 0.97, 0.97, 0.97, 0.97, 0.96, 0.95, 0.95, 0.94, 0.93, 0.93, 0.93, 0.93, 0.92, 0.91, 0.9, 0.89, 0.89, 0.89, 0.89, 0.88, 0.85, 0.84, 0.83, 0.82, 0.82, 0.79, 0.76, 0.76, 0.75, 0.72, 0.72, 0.71, 0.67, 0.66, 0.62, 0.51]\n",
    "}\n",
    "\n",
    "df = pd.DataFrame(data)\n",
    "\n",
    "# Standardize the features\n",
    "scaler = StandardScaler()\n",
    "scaled_data = scaler.fit_transform(df)\n",
    "\n",
    "# Perform PCA\n",
    "pca = PCA()\n",
    "pca.fit(scaled_data)\n",
    "\n",
    "# Explained variance ratio\n",
    "explained_variance_ratio = pca.explained_variance_ratio_\n",
    "\n",
    "# Principal components\n",
    "principal_components = pca.components_\n",
    "\n",
    "# Transform the data to the principal components\n",
    "transformed_data = pca.transform(scaled_data)\n",
    "\n",
    "# Plot the explained variance ratio\n",
    "plt.bar(range(1, len(explained_variance_ratio) + 1), explained_variance_ratio, alpha=0.5, align='center')\n",
    "plt.xlabel('Principal Component')\n",
    "plt.ylabel('Explained Variance Ratio')\n",
    "plt.title('Explained Variance Ratio by Principal Component')\n",
    "plt.show()\n",
    "\n",
    "# Print the principal components\n",
    "print(\"Principal Components:\")\n",
    "print(principal_components)\n",
    "\n",
    "# Print the transformed data\n",
    "print(\"\\nTransformed Data (First 5 rows):\")\n",
    "print(transformed_data[:5])\n"
   ]
  },
  {
   "cell_type": "code",
   "execution_count": null,
   "metadata": {},
   "outputs": [],
   "source": []
  }
 ],
 "metadata": {
  "kernelspec": {
   "display_name": "Python 3",
   "language": "python",
   "name": "python3"
  },
  "language_info": {
   "codemirror_mode": {
    "name": "ipython",
    "version": 3
   },
   "file_extension": ".py",
   "mimetype": "text/x-python",
   "name": "python",
   "nbconvert_exporter": "python",
   "pygments_lexer": "ipython3",
   "version": "3.11.9"
  }
 },
 "nbformat": 4,
 "nbformat_minor": 2
}
