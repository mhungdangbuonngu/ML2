{
 "cells": [
  {
   "cell_type": "code",
   "execution_count": 2,
   "metadata": {
    "metadata": {}
   },
   "outputs": [],
   "source": [
    "import pandas as pd\n",
    "import numpy as np\n",
    "from os.path import join as joinPath\n",
    "\n"
   ]
  },
  {
   "cell_type": "code",
   "execution_count": 3,
   "metadata": {
    "metadata": {}
   },
   "outputs": [],
   "source": [
    "def getPath() -> str:\n",
    "    \"\"\"\n",
    "    Return the path to the folder contains this file\n",
    "    \"\"\"\n",
    "    return __file__[:-len(__file__.split('\\\\')[-1])]"
   ]
  },
  {
   "cell_type": "code",
   "execution_count": 22,
   "metadata": {
    "metadata": {}
   },
   "outputs": [
    {
     "ename": "NameError",
     "evalue": "name '__file__' is not defined",
     "output_type": "error",
     "traceback": [
      "\u001b[1;31m---------------------------------------------------------------------------\u001b[0m",
      "\u001b[1;31mNameError\u001b[0m                                 Traceback (most recent call last)",
      "Cell \u001b[1;32mIn[22], line 1\u001b[0m\n\u001b[1;32m----> 1\u001b[0m weatherDataset \u001b[38;5;241m=\u001b[39m pd\u001b[38;5;241m.\u001b[39mread_csv(joinPath(\u001b[43mgetPath\u001b[49m\u001b[43m(\u001b[49m\u001b[43m)\u001b[49m,\u001b[38;5;124m'\u001b[39m\u001b[38;5;124mvalorant_player.csv\u001b[39m\u001b[38;5;124m'\u001b[39m))\n\u001b[0;32m      2\u001b[0m weatherDataset\u001b[38;5;241m.\u001b[39mhead(\u001b[38;5;241m10\u001b[39m)\n",
      "Cell \u001b[1;32mIn[3], line 5\u001b[0m, in \u001b[0;36mgetPath\u001b[1;34m()\u001b[0m\n\u001b[0;32m      1\u001b[0m \u001b[38;5;28;01mdef\u001b[39;00m \u001b[38;5;21mgetPath\u001b[39m() \u001b[38;5;241m-\u001b[39m\u001b[38;5;241m>\u001b[39m \u001b[38;5;28mstr\u001b[39m:\n\u001b[0;32m      2\u001b[0m \u001b[38;5;250m    \u001b[39m\u001b[38;5;124;03m\"\"\"\u001b[39;00m\n\u001b[0;32m      3\u001b[0m \u001b[38;5;124;03m    Return the path to the folder contains this file\u001b[39;00m\n\u001b[0;32m      4\u001b[0m \u001b[38;5;124;03m    \"\"\"\u001b[39;00m\n\u001b[1;32m----> 5\u001b[0m     \u001b[38;5;28;01mreturn\u001b[39;00m \u001b[38;5;18;43m__file__\u001b[39;49m[:\u001b[38;5;241m-\u001b[39m\u001b[38;5;28mlen\u001b[39m(\u001b[38;5;18m__file__\u001b[39m\u001b[38;5;241m.\u001b[39msplit(\u001b[38;5;124m'\u001b[39m\u001b[38;5;130;01m\\\\\u001b[39;00m\u001b[38;5;124m'\u001b[39m)[\u001b[38;5;241m-\u001b[39m\u001b[38;5;241m1\u001b[39m])]\n",
      "\u001b[1;31mNameError\u001b[0m: name '__file__' is not defined"
     ]
    }
   ],
   "source": [
    "weatherDataset = pd.read_csv(joinPath(getPath(),'weather_data.csv'))\n",
    "weatherDataset.head(10)\n"
   ]
  },
  {
   "cell_type": "code",
   "execution_count": 23,
   "metadata": {},
   "outputs": [
    {
     "name": "stdout",
     "output_type": "stream",
     "text": [
      "<class 'pandas.core.frame.DataFrame'>\n",
      "RangeIndex: 12056 entries, 0 to 12055\n",
      "Data columns (total 9 columns):\n",
      " #   Column                    Non-Null Count  Dtype  \n",
      "---  ------                    --------------  -----  \n",
      " 0   Formatted Date            12056 non-null  object \n",
      " 1   Summary                   12056 non-null  object \n",
      " 2   Temperature (C)           12056 non-null  float64\n",
      " 3   Apparent Temperature (C)  12056 non-null  float64\n",
      " 4   Humidity                  12056 non-null  float64\n",
      " 5   Wind Speed (km/h)         12056 non-null  float64\n",
      " 6   Wind Bearing (degrees)    12056 non-null  float64\n",
      " 7   Visibility (km)           12056 non-null  float64\n",
      " 8   Pressure (millibars)      12056 non-null  float64\n",
      "dtypes: float64(7), object(2)\n",
      "memory usage: 847.8+ KB\n"
     ]
    }
   ],
   "source": [
    "weatherDataset.info()"
   ]
  },
  {
   "cell_type": "code",
   "execution_count": 5,
   "metadata": {},
   "outputs": [
    {
     "data": {
      "text/html": [
       "<div>\n",
       "<style scoped>\n",
       "    .dataframe tbody tr th:only-of-type {\n",
       "        vertical-align: middle;\n",
       "    }\n",
       "\n",
       "    .dataframe tbody tr th {\n",
       "        vertical-align: top;\n",
       "    }\n",
       "\n",
       "    .dataframe thead th {\n",
       "        text-align: right;\n",
       "    }\n",
       "</style>\n",
       "<table border=\"1\" class=\"dataframe\">\n",
       "  <thead>\n",
       "    <tr style=\"text-align: right;\">\n",
       "      <th></th>\n",
       "      <th>Temperature (C)</th>\n",
       "      <th>Apparent Temperature (C)</th>\n",
       "      <th>Humidity</th>\n",
       "      <th>Wind Speed (km/h)</th>\n",
       "      <th>Wind Bearing (degrees)</th>\n",
       "      <th>Visibility (km)</th>\n",
       "      <th>Pressure (millibars)</th>\n",
       "    </tr>\n",
       "  </thead>\n",
       "  <tbody>\n",
       "    <tr>\n",
       "      <th>count</th>\n",
       "      <td>12056.000000</td>\n",
       "      <td>12056.000000</td>\n",
       "      <td>12056.000000</td>\n",
       "      <td>12056.000000</td>\n",
       "      <td>12056.000000</td>\n",
       "      <td>12056.000000</td>\n",
       "      <td>12056.000000</td>\n",
       "    </tr>\n",
       "    <tr>\n",
       "      <th>mean</th>\n",
       "      <td>11.973399</td>\n",
       "      <td>10.875350</td>\n",
       "      <td>0.735087</td>\n",
       "      <td>10.857381</td>\n",
       "      <td>186.121267</td>\n",
       "      <td>10.357280</td>\n",
       "      <td>1003.565795</td>\n",
       "    </tr>\n",
       "    <tr>\n",
       "      <th>std</th>\n",
       "      <td>9.616541</td>\n",
       "      <td>10.749127</td>\n",
       "      <td>0.195744</td>\n",
       "      <td>6.764264</td>\n",
       "      <td>107.257869</td>\n",
       "      <td>4.325891</td>\n",
       "      <td>115.540232</td>\n",
       "    </tr>\n",
       "    <tr>\n",
       "      <th>min</th>\n",
       "      <td>-20.000000</td>\n",
       "      <td>-27.716667</td>\n",
       "      <td>0.000000</td>\n",
       "      <td>0.000000</td>\n",
       "      <td>0.000000</td>\n",
       "      <td>0.000000</td>\n",
       "      <td>0.000000</td>\n",
       "    </tr>\n",
       "    <tr>\n",
       "      <th>25%</th>\n",
       "      <td>4.716667</td>\n",
       "      <td>2.222222</td>\n",
       "      <td>0.620000</td>\n",
       "      <td>6.150200</td>\n",
       "      <td>113.000000</td>\n",
       "      <td>8.194900</td>\n",
       "      <td>1011.920000</td>\n",
       "    </tr>\n",
       "    <tr>\n",
       "      <th>50%</th>\n",
       "      <td>12.022222</td>\n",
       "      <td>12.022222</td>\n",
       "      <td>0.780000</td>\n",
       "      <td>10.465000</td>\n",
       "      <td>179.000000</td>\n",
       "      <td>10.046400</td>\n",
       "      <td>1016.430000</td>\n",
       "    </tr>\n",
       "    <tr>\n",
       "      <th>75%</th>\n",
       "      <td>18.888889</td>\n",
       "      <td>18.888889</td>\n",
       "      <td>0.890000</td>\n",
       "      <td>14.200200</td>\n",
       "      <td>290.000000</td>\n",
       "      <td>14.908600</td>\n",
       "      <td>1021.072500</td>\n",
       "    </tr>\n",
       "    <tr>\n",
       "      <th>max</th>\n",
       "      <td>38.983333</td>\n",
       "      <td>37.994444</td>\n",
       "      <td>1.000000</td>\n",
       "      <td>53.194400</td>\n",
       "      <td>359.000000</td>\n",
       "      <td>16.100000</td>\n",
       "      <td>1046.380000</td>\n",
       "    </tr>\n",
       "  </tbody>\n",
       "</table>\n",
       "</div>"
      ],
      "text/plain": [
       "       Temperature (C)  Apparent Temperature (C)      Humidity  \\\n",
       "count     12056.000000              12056.000000  12056.000000   \n",
       "mean         11.973399                 10.875350      0.735087   \n",
       "std           9.616541                 10.749127      0.195744   \n",
       "min         -20.000000                -27.716667      0.000000   \n",
       "25%           4.716667                  2.222222      0.620000   \n",
       "50%          12.022222                 12.022222      0.780000   \n",
       "75%          18.888889                 18.888889      0.890000   \n",
       "max          38.983333                 37.994444      1.000000   \n",
       "\n",
       "       Wind Speed (km/h)  Wind Bearing (degrees)  Visibility (km)  \\\n",
       "count       12056.000000            12056.000000     12056.000000   \n",
       "mean           10.857381              186.121267        10.357280   \n",
       "std             6.764264              107.257869         4.325891   \n",
       "min             0.000000                0.000000         0.000000   \n",
       "25%             6.150200              113.000000         8.194900   \n",
       "50%            10.465000              179.000000        10.046400   \n",
       "75%            14.200200              290.000000        14.908600   \n",
       "max            53.194400              359.000000        16.100000   \n",
       "\n",
       "       Pressure (millibars)  \n",
       "count          12056.000000  \n",
       "mean            1003.565795  \n",
       "std              115.540232  \n",
       "min                0.000000  \n",
       "25%             1011.920000  \n",
       "50%             1016.430000  \n",
       "75%             1021.072500  \n",
       "max             1046.380000  "
      ]
     },
     "execution_count": 5,
     "metadata": {},
     "output_type": "execute_result"
    }
   ],
   "source": [
    "weatherDataset.describe()"
   ]
  },
  {
   "cell_type": "code",
   "execution_count": 18,
   "metadata": {},
   "outputs": [
    {
     "name": "stdout",
     "output_type": "stream",
     "text": [
      "Numerical statistics:\n",
      "      Temperature (C)  Apparent Temperature (C)  Humidity  Wind Speed (km/h)  \\\n",
      "mean        11.973399                 10.875350  0.735087          10.857381   \n",
      "var         92.477860                115.543731  0.038316          45.755272   \n",
      "\n",
      "      Wind Bearing (degrees)  Visibility (km)  Pressure (millibars)  \n",
      "mean              186.121267        10.357280           1003.565795  \n",
      "var             11504.250411        18.713332          13349.545115  \n"
     ]
    },
    {
     "name": "stderr",
     "output_type": "stream",
     "text": [
      "C:\\Users\\PC\\AppData\\Local\\Temp\\ipykernel_17928\\3127780401.py:15: FutureWarning: pandas.value_counts is deprecated and will be removed in a future version. Use pd.Series(obj).value_counts() instead.\n",
      "  categorical_counts = weatherDataset[categorical_cols].apply(pd.value_counts)\n",
      "C:\\Users\\PC\\AppData\\Local\\Temp\\ipykernel_17928\\3127780401.py:15: FutureWarning: pandas.value_counts is deprecated and will be removed in a future version. Use pd.Series(obj).value_counts() instead.\n",
      "  categorical_counts = weatherDataset[categorical_cols].apply(pd.value_counts)\n"
     ]
    }
   ],
   "source": [
    "\n",
    "\n",
    "# Separate numerical and categorical columns\n",
    "numerical_cols = weatherDataset.select_dtypes(include=['int', 'float']).columns\n",
    "categorical_cols = weatherDataset.select_dtypes(include=['object']).columns\n",
    "\n",
    "# Calculate mean and variance for numerical data\n",
    "numerical_stats = weatherDataset[numerical_cols].agg(['mean', 'var'])\n",
    "\n",
    "# Calculate covariance matrix for numerical data\n",
    "covariance_matrix = weatherDataset[numerical_cols].cov()\n",
    "\n",
    "# Calculate correlation matrix for numerical data\n",
    "correlation_matrix = weatherDataset[numerical_cols].corr()\n",
    "\n",
    "# Calculate frequency counts for categorical data\n",
    "categorical_counts = weatherDataset[categorical_cols].apply(pd.value_counts)\n",
    "\n",
    "# Print the results\n",
    "print(\"Numerical statistics:\")\n",
    "print(numerical_stats)\n",
    "\n",
    "\n"
   ]
  },
  {
   "cell_type": "code",
   "execution_count": 19,
   "metadata": {},
   "outputs": [
    {
     "name": "stdout",
     "output_type": "stream",
     "text": [
      "\n",
      "Covariance matrix:\n",
      "                          Temperature (C)  Apparent Temperature (C)  Humidity  \\\n",
      "Temperature (C)                 92.477860                102.614756 -1.192294   \n",
      "Apparent Temperature (C)       102.614756                115.543731 -1.269589   \n",
      "Humidity                        -1.192294                 -1.269589  0.038316   \n",
      "Wind Speed (km/h)                1.520946                 -3.057161 -0.303915   \n",
      "Wind Bearing (degrees)          34.382433                 37.202561 -0.192495   \n",
      "Visibility (km)                 16.735786                 18.232394 -0.315661   \n",
      "Pressure (millibars)           -12.848535                 -6.243911  0.322893   \n",
      "\n",
      "                          Wind Speed (km/h)  Wind Bearing (degrees)  \\\n",
      "Temperature (C)                    1.520946               34.382433   \n",
      "Apparent Temperature (C)          -3.057161               37.202561   \n",
      "Humidity                          -0.303915               -0.192495   \n",
      "Wind Speed (km/h)                 45.755272               84.876625   \n",
      "Wind Bearing (degrees)            84.876625            11504.250411   \n",
      "Visibility (km)                    3.187548               24.315386   \n",
      "Pressure (millibars)             -44.399860             -135.996200   \n",
      "\n",
      "                          Visibility (km)  Pressure (millibars)  \n",
      "Temperature (C)                 16.735786            -12.848535  \n",
      "Apparent Temperature (C)        18.232394             -6.243911  \n",
      "Humidity                        -0.315661              0.322893  \n",
      "Wind Speed (km/h)                3.187548            -44.399860  \n",
      "Wind Bearing (degrees)          24.315386           -135.996200  \n",
      "Visibility (km)                 18.713332             29.035187  \n",
      "Pressure (millibars)            29.035187          13349.545115  \n"
     ]
    }
   ],
   "source": [
    "print(\"\\nCovariance matrix:\")\n",
    "print(covariance_matrix)"
   ]
  },
  {
   "cell_type": "code",
   "execution_count": 20,
   "metadata": {},
   "outputs": [
    {
     "name": "stdout",
     "output_type": "stream",
     "text": [
      "\n",
      "Correlation matrix:\n",
      "                          Temperature (C)  Apparent Temperature (C)  Humidity  \\\n",
      "Temperature (C)                  1.000000                  0.992699 -0.633397   \n",
      "Apparent Temperature (C)         0.992699                  1.000000 -0.603395   \n",
      "Humidity                        -0.633397                 -0.603395  1.000000   \n",
      "Wind Speed (km/h)                0.023382                 -0.042046 -0.229532   \n",
      "Wind Bearing (degrees)           0.033334                  0.032268 -0.009169   \n",
      "Visibility (km)                  0.402302                  0.392098 -0.372784   \n",
      "Pressure (millibars)            -0.011564                 -0.005027  0.014277   \n",
      "\n",
      "                          Wind Speed (km/h)  Wind Bearing (degrees)  \\\n",
      "Temperature (C)                    0.023382                0.033334   \n",
      "Apparent Temperature (C)          -0.042046                0.032268   \n",
      "Humidity                          -0.229532               -0.009169   \n",
      "Wind Speed (km/h)                  1.000000                0.116987   \n",
      "Wind Bearing (degrees)             0.116987                1.000000   \n",
      "Visibility (km)                    0.108933                0.052405   \n",
      "Pressure (millibars)              -0.056810               -0.010974   \n",
      "\n",
      "                          Visibility (km)  Pressure (millibars)  \n",
      "Temperature (C)                  0.402302             -0.011564  \n",
      "Apparent Temperature (C)         0.392098             -0.005027  \n",
      "Humidity                        -0.372784              0.014277  \n",
      "Wind Speed (km/h)                0.108933             -0.056810  \n",
      "Wind Bearing (degrees)           0.052405             -0.010974  \n",
      "Visibility (km)                  1.000000              0.058092  \n",
      "Pressure (millibars)             0.058092              1.000000  \n"
     ]
    }
   ],
   "source": [
    "print(\"\\nCorrelation matrix:\")\n",
    "print(correlation_matrix)\n"
   ]
  },
  {
   "cell_type": "code",
   "execution_count": 21,
   "metadata": {},
   "outputs": [
    {
     "name": "stdout",
     "output_type": "stream",
     "text": [
      "\n",
      "Categorical frequency counts:\n",
      "                               Formatted Date  Summary\n",
      "2006-01-01 00:00:00.000 +0100             1.0      NaN\n",
      "2006-01-01 08:00:00.000 +0100             1.0      NaN\n",
      "2006-01-01 16:00:00.000 +0100             1.0      NaN\n",
      "2006-01-02 00:00:00.000 +0100             1.0      NaN\n",
      "2006-01-02 08:00:00.000 +0100             1.0      NaN\n",
      "...                                       ...      ...\n",
      "Rain                                      NaN      2.0\n",
      "Windy                                     NaN      2.0\n",
      "Windy and Mostly Cloudy                   NaN      5.0\n",
      "Windy and Overcast                        NaN      3.0\n",
      "Windy and Partly Cloudy                   NaN      8.0\n",
      "\n",
      "[12075 rows x 2 columns]\n"
     ]
    }
   ],
   "source": [
    "print(\"\\nCategorical frequency counts:\")\n",
    "print(categorical_counts)"
   ]
  },
  {
   "cell_type": "code",
   "execution_count": null,
   "metadata": {},
   "outputs": [],
   "source": []
  }
 ],
 "metadata": {
  "kernelspec": {
   "display_name": "Python 3",
   "language": "python",
   "name": "python3"
  },
  "language_info": {
   "codemirror_mode": {
    "name": "ipython",
    "version": 3
   },
   "file_extension": ".py",
   "mimetype": "text/x-python",
   "name": "python",
   "nbconvert_exporter": "python",
   "pygments_lexer": "ipython3",
   "version": "3.11.9"
  }
 },
 "nbformat": 4,
 "nbformat_minor": 2
}
